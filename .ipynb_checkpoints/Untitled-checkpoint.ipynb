{
 "cells": [
  {
   "cell_type": "markdown",
   "id": "6373cfe2-861a-4ec0-84bd-2157bf8aa1a0",
   "metadata": {},
   "source": [
    "# **Corporate Culture Monitor**"
   ]
  },
  {
   "cell_type": "markdown",
   "id": "1f0bcdf5-6a70-404c-935a-67adc6494bc9",
   "metadata": {},
   "source": [
    "## **Project Structure**"
   ]
  },
  {
   "cell_type": "markdown",
   "id": "447741f2-e843-49e3-a558-7cbab9fb7130",
   "metadata": {},
   "source": [
    "capstone-project-25t3-9900-f18a-donut/<br>\n",
    "│<br>\n",
    "├─ crawler/&emsp;&emsp;&emsp;&emsp;  &emsp;&emsp; &emsp; &emsp;&emsp;&emsp;&emsp;&emsp;&emsp;# Data collection & cleaning<br>\n",
    "│&emsp;├─ crawler.py&emsp;&emsp;  &emsp;&emsp;&emsp;&emsp;&emsp;&emsp;&emsp;&emsp;&emsp;# Scrape comments from Reddit, Twitter<br>\n",
    "│&emsp;└─ data_cleaning.py&emsp;&emsp;&emsp;&emsp;&emsp;&emsp;&emsp;&emsp;# Clean raw data -> reviews.csv<br>\n",
    "│<br>\n",
    "├─ data/<br>\n",
    "│&emsp;├─ raw/&emsp;  &emsp;   &emsp;  &emsp;  &emsp;  &emsp;&emsp;    &emsp;&emsp;&emsp;&emsp;&emsp;# Raw scraped data<br>\n",
    "│&emsp;│&emsp; └─ reviews.csv<br>\n",
    "│&emsp;└─ processed/<br>\n",
    "│&emsp;&emsp;&emsp;└─ annotated.csv/&emsp;  &emsp;&emsp;  &emsp;  &emsp;&emsp;# Annotated data (simulated for Sprint 1)<br>\n",
    "├─ backend/<br>\n",
    "│&emsp;├─ app.py&emsp;  &emsp;   &emsp;  &emsp;  &emsp;  &emsp; &emsp;&emsp;&emsp;&emsp;&emsp;# Flask API server (KPI + Reviews) <br>\n",
    "│&emsp;└─ pipeline.py &emsp; &emsp;   &emsp;  &emsp;  &emsp;&emsp; &emsp;&emsp;&emsp;# Sentiment labeling + dimension classification<br>\n",
    "│<br>\n",
    "└─ frontend/<br>\n",
    "│&emsp;├─ index.html&emsp; &emsp;   &emsp;  &emsp;&emsp;&emsp;&emsp;&emsp;&emsp;&emsp;# Entry point with Tailwind & fonts <br>\n",
    "│&emsp;├─ src/<br>\n",
    "│&emsp;│&emsp;├─ App.jsx&emsp; &emsp;   &emsp;  &emsp;  &emsp;&emsp;&emsp; &emsp; &emsp;# Main React app with dynamic background<br>\n",
    "│&emsp;│&emsp;├─ index.css&emsp;&emsp;   &emsp;  &emsp;  &emsp;&emsp;&emsp;&emsp;&emsp;# Global stylesheet, imports Tailwind & custom styles<br>\n",
    "│&emsp;│&emsp;├─ main.jsx&emsp; &emsp;   &emsp;  &emsp;  &emsp;&emsp;&emsp;&emsp;&emsp;# React app entry file that mounts <App /> into #root<br>\n",
    "│&emsp;│&emsp;├─ components/&emsp; &emsp;   &emsp;  &emsp;  &emsp; &emsp;# Modularized UI components<br>\n",
    "│&emsp;│&emsp;│&emsp;├─ Header.jsx<br>\n",
    "│&emsp;│&emsp;│&emsp;├─ KpiCards.jsx<br>\n",
    "│&emsp;│&emsp;│&emsp;├─ SentimentTabs.jsx<br>\n",
    "│&emsp;│&emsp;│&emsp;├─ DimensionFilter.jsx<br>\n",
    "│&emsp;│&emsp;│&emsp;├─ ReviewsList.jsx<br>\n",
    "│&emsp;│&emsp;│&emsp;└─ Pager.jsx<br>\n",
    "│&emsp;│&emsp;└─ api.js&emsp; &emsp;   &emsp;  &emsp;  &emsp;&emsp; &emsp;&emsp;&emsp;&emsp;# API helper functions<br>\n",
    "│&emsp;├─ main.jsx &emsp; &emsp;   &emsp;  &emsp;  &emsp; &emsp;&emsp;&emsp;&emsp;&emsp;# React root<br>\n",
    "│&emsp;└─ tailwind.config.js<br>"
   ]
  },
  {
   "cell_type": "markdown",
   "id": "bf41dac4-ae77-43ba-923f-d405d2bad7b7",
   "metadata": {},
   "source": [
    "## **Data Pipeline**"
   ]
  },
  {
   "cell_type": "markdown",
   "id": "a35ad96d-b805-4fb2-93e0-0890cad80783",
   "metadata": {},
   "source": [
    "[crawler] → Collects raw reviews → data/raw/reviews.csv<br>\n",
    "&emsp;&emsp;↓<br>\n",
    "[backend/pipeline.py] → Cleans and saves → data/processed/annotated.csv<br>\n",
    "&emsp;&emsp;↓<br>\n",
    "[backend/app.py] → Serves REST API endpoints (/api/reviews)<br>\n",
    "&emsp;&emsp;↓<br>\n",
    "[frontend/src/api.js] → Fetches data via HTTP<br>\n",
    "&emsp;&emsp;↓<br>\n",
    "[App.jsx + components/*] → Displays interactive dashboard in browser<br>"
   ]
  },
  {
   "cell_type": "markdown",
   "id": "cb2119e4-3db9-45a8-8c9d-b9b47ac46cdb",
   "metadata": {},
   "source": [
    "## **Setup & Run**"
   ]
  },
  {
   "cell_type": "markdown",
   "id": "c6ddfd6b-d770-47d6-8df9-860ca6409a47",
   "metadata": {},
   "source": [
    "###  Backend ###\n",
    "cd backend<br>\n",
    "python -m venv .venv<br>\n",
    ".venv\\Scripts\\activate &emsp;  &emsp; &emsp;&emsp;&emsp;# (Windows)<br>\n",
    "&emsp;or<br>\n",
    "source .venv/bin/activate  &emsp; &emsp; &emsp;# (Mac)<br>\n",
    "pip install -r requirements.txt<br>\n",
    "python app.py<br>\n",
    "\n",
    "### Frontend ###\n",
    "cd frontend<br>\n",
    "npm install<br>\n",
    "npm run dev<br>\n",
    "<br>\n",
    "📍http://localhost:5173"
   ]
  }
 ],
 "metadata": {
  "kernelspec": {
   "display_name": "Python 3 (ipykernel)",
   "language": "python",
   "name": "python3"
  },
  "language_info": {
   "codemirror_mode": {
    "name": "ipython",
    "version": 3
   },
   "file_extension": ".py",
   "mimetype": "text/x-python",
   "name": "python",
   "nbconvert_exporter": "python",
   "pygments_lexer": "ipython3",
   "version": "3.12.4"
  }
 },
 "nbformat": 4,
 "nbformat_minor": 5
}
